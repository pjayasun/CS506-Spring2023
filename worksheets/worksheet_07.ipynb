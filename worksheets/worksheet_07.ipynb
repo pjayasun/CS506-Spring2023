{
 "cells": [
  {
   "cell_type": "markdown",
   "metadata": {},
   "source": [
    "# Worksheet 07\n",
    "\n",
    "Name: Pranesh Jayasundar\n",
    "UID: U08334002\n",
    "\n",
    "### Topics\n",
    "\n",
    "- Soft Clustering\n",
    "- Clustering Aggregation\n",
    "\n",
    "### Probability Review\n",
    "\n",
    "Read through [the following](https://medium.com/@gallettilance/overview-of-probability-3272b72c82c8)\n",
    "\n",
    "### Soft Clustering\n",
    "\n",
    "We generate 10 data points that come from a normal distribution with mean 5 and variance 1."
   ]
  },
  {
   "cell_type": "code",
   "execution_count": 18,
   "metadata": {},
   "outputs": [
    {
     "name": "stdout",
     "output_type": "stream",
     "text": [
      "[4.438456696722695, 2.553321522924431, 4.016619713769143, 4.041020628919053, 4.5593390749345675, 4.486122433214509, 4.931651890673766, 4.150482313219718, 3.4900602232108158, 3.8560492501059924]\n"
     ]
    }
   ],
   "source": [
    "import random\n",
    "import numpy as np\n",
    "from sklearn.cluster import KMeans\n",
    "\n",
    "mean = 5\n",
    "stdev = 1\n",
    "\n",
    "c1 = np.random.normal(mean, stdev, 10).tolist()\n",
    "print(c1)"
   ]
  },
  {
   "cell_type": "markdown",
   "metadata": {},
   "source": [
    "a) Generate 10 more data points, this time coming from a normal distribution with mean 8 and variance 1."
   ]
  },
  {
   "cell_type": "code",
   "execution_count": 19,
   "metadata": {},
   "outputs": [
    {
     "name": "stdout",
     "output_type": "stream",
     "text": [
      "[8.865349700929933, 5.971769858626196, 8.388169011323757, 8.113271594758002, 7.538138087390978, 8.25324512558597, 7.994358349953638, 7.867662099241416, 6.2354358720797425, 7.000343071179394]\n"
     ]
    }
   ],
   "source": [
    "mean = 8\n",
    "stdev = 1\n",
    "\n",
    "c2 = np.random.normal(mean, stdev, 10).tolist()\n",
    "print(c2)"
   ]
  },
  {
   "cell_type": "markdown",
   "metadata": {},
   "source": [
    "b) Flip a fair coin 10 times. If the coin lands on H, then pick the last data point of `c1` and remove it from `c1`, if T then pick the last data point from `c2` and remove it from `c2`. Add these 10 points to a list called `data`."
   ]
  },
  {
   "cell_type": "code",
   "execution_count": 20,
   "metadata": {},
   "outputs": [
    {
     "name": "stdout",
     "output_type": "stream",
     "text": [
      "[7.000343071179394, 6.2354358720797425, 3.8560492501059924, 7.867662099241416, 7.994358349953638, 3.4900602232108158, 8.25324512558597, 4.150482313219718, 7.538138087390978, 8.113271594758002]\n"
     ]
    }
   ],
   "source": [
    "data = []\n",
    "for i in range(10):\n",
    "    # flip coin\n",
    "    coin_output = random.choice([0, 1])\n",
    "    if coin_output == 0:\n",
    "        p1 = c1.pop()\n",
    "        data.append(p1)\n",
    "    else:\n",
    "        p2 = c2.pop()\n",
    "        data.append(p2)\n",
    "print(data)"
   ]
  },
  {
   "cell_type": "markdown",
   "metadata": {},
   "source": [
    "c) This `data` is a Gaussian Mixture Distribution with 2 mixture components. Over the next few questions we will walk through the GMM algorithm to see if we can uncover the parameters we used to generate this data. First, please list all these parameters of the GMM that created `data` and the values we know they have."
   ]
  },
  {
   "cell_type": "markdown",
   "metadata": {},
   "source": [
    "- The mean for c1 is 5 and stdev for c1 is 1. \n",
    "- The mean for c2 is 8 and stdev for c2 is 1."
   ]
  },
  {
   "cell_type": "markdown",
   "metadata": {},
   "source": [
    "d) Let's assume there are two mixture components (note: we could plot the data and make the observation that there are two clusters). The EM algorithm asks us to start with a random `mean_j`, `variance_j`, `P(C_j)` for each component j. One method we could use to find sensible values for these is to apply K means with k=2 here.\n",
    "\n",
    "1. the centroids would be the estimates of the `mean_j`\n",
    "2. the intra-cluster variance could be the estimate of `variance_j`\n",
    "3. the proportion of points in each cluster could be the estimate of `P(C_j)`\n",
    "\n",
    "Go through this process and list the parameter estimates it gives. Are they close or far from the true values?"
   ]
  },
  {
   "cell_type": "code",
   "execution_count": 21,
   "metadata": {},
   "outputs": [
    {
     "name": "stdout",
     "output_type": "stream",
     "text": [
      "[7.000343071179394, 6.2354358720797425, 7.867662099241416, 7.994358349953638, 8.25324512558597, 7.538138087390978, 8.113271594758002]\n",
      "[3.8560492501059924, 3.4900602232108158, 4.150482313219718]\n",
      "P(C_1) = 0.7,  P(C_2) = 0.3\n",
      "mean_1 = 7.571779171455591,  mean_2 = 3.8321972621788425\n",
      "var_1 = 0.44817344474436854,  var_2 = 0.0729773481593262\n"
     ]
    },
    {
     "name": "stderr",
     "output_type": "stream",
     "text": [
      "/Users/praneshjayasundar/Library/Python/3.9/lib/python/site-packages/sklearn/cluster/_kmeans.py:870: FutureWarning: The default value of `n_init` will change from 10 to 'auto' in 1.4. Set the value of `n_init` explicitly to suppress the warning\n",
      "  warnings.warn(\n"
     ]
    }
   ],
   "source": [
    "kmeans = KMeans(2, init='k-means++').fit(X=np.array(data).reshape(-1, 1))\n",
    "\n",
    "c1 = [x[0] for x in filter(lambda x: x[1] == 0, zip(data, kmeans.labels_))]\n",
    "print(c1)\n",
    "c2 = [x[0] for x in filter(lambda x: x[1] == 1, zip(data, kmeans.labels_))]\n",
    "print(c2)\n",
    "\n",
    "prob_c = [ len(c1) / (len(c1) + len(c2)) , len(c2) / (len(c1) + len(c2)) ]\n",
    "mean = [ sum(c1)/len(c1) , sum(c2)/len(c2) ]\n",
    "var = [ sum(map(lambda x : (x - mean[0])**2, c1)) / len(c1) , sum(map(lambda x : (x - mean[1])**2, c2)) / len(c2) ]\n",
    "\n",
    "print(\"P(C_1) = \" + str(prob_c[0]) + \",  P(C_2) = \" + str(prob_c[1]))\n",
    "print(\"mean_1 = \" + str(mean[0]) + \",  mean_2 = \" + str(mean[1]))\n",
    "print(\"var_1 = \" + str(var[0]) + \",  var_2 = \" + str(var[1]))"
   ]
  },
  {
   "cell_type": "markdown",
   "metadata": {},
   "source": []
  },
  {
   "cell_type": "markdown",
   "metadata": {},
   "source": [
    "e) For each data point, compute `P(C_j | X_i)`. Comment on which cluster you think each point belongs to based on the estimated probabilities. How does that compare to the truth?"
   ]
  },
  {
   "cell_type": "code",
   "execution_count": 22,
   "metadata": {},
   "outputs": [
    {
     "name": "stdout",
     "output_type": "stream",
     "text": [
      "point =  7.000343071179394\n",
      "probability of observing that point if it came from cluster 0 =  0.39486212719419544\n",
      "probability of observing that point if it came from cluster 1 =  0.0\n",
      "point =  6.2354358720797425\n",
      "probability of observing that point if it came from cluster 0 =  0.01044330400576396\n",
      "probability of observing that point if it came from cluster 1 =  1.7701354577766063e-235\n",
      "point =  3.8560492501059924\n",
      "probability of observing that point if it came from cluster 0 =  1.054936206012334e-15\n",
      "probability of observing that point if it came from cluster 1 =  5.18233195404682\n",
      "point =  7.867662099241416\n",
      "probability of observing that point if it came from cluster 0 =  0.7158434034001386\n",
      "probability of observing that point if it came from cluster 1 =  0.0\n",
      "point =  7.994358349953638\n",
      "probability of observing that point if it came from cluster 0 =  0.5707030397864765\n",
      "probability of observing that point if it came from cluster 1 =  0.0\n",
      "point =  3.4900602232108158\n",
      "probability of observing that point if it came from cluster 0 =  8.670233508060632e-19\n",
      "probability of observing that point if it came from cluster 1 =  9.222864871561317e-05\n",
      "point =  8.25324512558597\n",
      "probability of observing that point if it came from cluster 0 =  0.28016248405860256\n",
      "probability of observing that point if it came from cluster 1 =  0.0\n",
      "point =  4.150482313219718\n",
      "probability of observing that point if it came from cluster 0 =  1.9724439268160532e-13\n",
      "probability of observing that point if it came from cluster 1 =  0.00040471168776271303\n",
      "point =  7.538138087390978\n",
      "probability of observing that point if it came from cluster 0 =  0.8876473302647863\n",
      "probability of observing that point if it came from cluster 1 =  0.0\n",
      "point =  8.113271594758002\n",
      "probability of observing that point if it came from cluster 0 =  0.4290155264065134\n",
      "probability of observing that point if it came from cluster 1 =  0.0\n",
      "7.000343071179394\n",
      "Probability of coming from C_1 = 1.0\n",
      "Probability of coming from C_2 = 0.0\n",
      "\n",
      "6.2354358720797425\n",
      "Probability of coming from C_1 = 1.0\n",
      "Probability of coming from C_2 = 7.264266955032147e-234\n",
      "\n",
      "3.8560492501059924\n",
      "Probability of coming from C_1 = 4.74982659516168e-16\n",
      "Probability of coming from C_2 = 0.9999999999999996\n",
      "\n",
      "7.867662099241416\n",
      "Probability of coming from C_1 = 1.0\n",
      "Probability of coming from C_2 = 0.0\n",
      "\n",
      "7.994358349953638\n",
      "Probability of coming from C_1 = 1.0\n",
      "Probability of coming from C_2 = 0.0\n",
      "\n",
      "3.4900602232108158\n",
      "Probability of coming from C_1 = 2.1935206829845108e-14\n",
      "Probability of coming from C_2 = 0.9999999999999781\n",
      "\n",
      "8.25324512558597\n",
      "Probability of coming from C_1 = 1.0\n",
      "Probability of coming from C_2 = 0.0\n",
      "\n",
      "4.150482313219718\n",
      "Probability of coming from C_1 = 1.1371969964048607e-09\n",
      "Probability of coming from C_2 = 0.999999998862803\n",
      "\n",
      "7.538138087390978\n",
      "Probability of coming from C_1 = 1.0\n",
      "Probability of coming from C_2 = 0.0\n",
      "\n",
      "8.113271594758002\n",
      "Probability of coming from C_1 = 1.0\n",
      "Probability of coming from C_2 = 0.0\n",
      "\n"
     ]
    }
   ],
   "source": [
    "from scipy.stats import norm\n",
    "\n",
    "prob_c0_x = [] # P(C_0 | X_i)\n",
    "prob_c1_x = [] # P(C_1 | X_i)\n",
    "prob_x = [] # P(X_i)\n",
    "\n",
    "k = 2\n",
    "\n",
    "for p in data:\n",
    "    print(\"point = \", p)\n",
    "    pdf_i = []\n",
    "\n",
    "    for j in range(k):\n",
    "        # P(X_i | C_j)\n",
    "        pdf_i.append(norm.pdf(p, mean[j], var[j]))\n",
    "        print(\"probability of observing that point if it came from cluster \" + str(j) + \" = \", pdf_i[j])\n",
    "        # P(C_j) already computed\n",
    "        prob_c[j]\n",
    "\n",
    "    # P(X_i) = P(C_0)P(X_i | C_0) + P(C_1)P(X_i | C_1)\n",
    "    prob_x = prob_c[0] * pdf_i[0] + prob_c[1] * pdf_i[1]\n",
    "\n",
    "    # P(C_j | X_i) = P(X_i | C_j)P(C_j) / P(X_i)\n",
    "    prob_c0_x.append( pdf_i[0] *  prob_c[0] / prob_x)\n",
    "    prob_c1_x.append( pdf_i[1] *  prob_c[1] / prob_x )\n",
    "\n",
    "probs = zip(data, prob_c0_x, prob_c1_x)\n",
    "for p in probs:\n",
    "    print(p[0])\n",
    "    print(\"Probability of coming from C_1 = \" + str(p[1]))\n",
    "    print(\"Probability of coming from C_2 = \" + str(p[2]))\n",
    "    print()\n"
   ]
  },
  {
   "cell_type": "markdown",
   "metadata": {},
   "source": [
    "f) Having computed `P(C_j | X_i)`, update the estimates of `mean_j`, `var_j`, and `P(C_j)`. How different are these values from the original ones you got from K means? briefly comment."
   ]
  },
  {
   "cell_type": "code",
   "execution_count": 23,
   "metadata": {},
   "outputs": [
    {
     "name": "stdout",
     "output_type": "stream",
     "text": [
      "P(C_1) = 0.7000000001137219,  P(C_2) = 0.29999999988627807\n",
      "mean_1 = 7.571779170899766,  mean_2 = 3.832197262058193\n",
      "var_1 = 0.44817344657321156,  var_2 = 0.07297734814858772\n"
     ]
    }
   ],
   "source": [
    "prob_c = [sum(prob_c0_x) / len(prob_c0_x), sum(prob_c1_x) / len(prob_c1_x)]\n",
    "mean = [sum([x[0] * x[1] for x in zip(prob_c0_x, data)]) / sum(prob_c0_x), sum([x[0] * x[1] for x in zip(prob_c1_x, data)]) / sum(prob_c1_x)]\n",
    "var = [sum([prob_c0_x[i] * (data[i] - mean[0])**2 for i in range(len(data))]) / sum(prob_c0_x), sum([prob_c1_x[i] * (data[i] - mean[1])**2 for i in range(len(data))]) / sum(prob_c1_x)]\n",
    "\n",
    "print(\"P(C_1) = \" + str(prob_c[0]) + \",  P(C_2) = \" + str(prob_c[1]))\n",
    "print(\"mean_1 = \" + str(mean[0]) + \",  mean_2 = \" + str(mean[1]))\n",
    "print(\"var_1 = \" + str(var[0]) + \",  var_2 = \" + str(var[1]))"
   ]
  },
  {
   "cell_type": "markdown",
   "metadata": {},
   "source": []
  },
  {
   "cell_type": "markdown",
   "metadata": {},
   "source": [
    "g) Update `P(C_j | X_i)`. Comment on any differences or lack thereof you observe."
   ]
  },
  {
   "cell_type": "code",
   "execution_count": 24,
   "metadata": {},
   "outputs": [
    {
     "name": "stdout",
     "output_type": "stream",
     "text": [
      "7.000343071179394\n",
      "Probability of coming from C_1 = 1.0\n",
      "Probability of coming from C_2 = 0.0\n",
      "\n",
      "6.2354358720797425\n",
      "Probability of coming from C_1 = 1.0\n",
      "Probability of coming from C_2 = 7.264265136687942e-234\n",
      "\n",
      "3.8560492501059924\n",
      "Probability of coming from C_1 = 4.749827961439436e-16\n",
      "Probability of coming from C_2 = 0.9999999999999996\n",
      "\n",
      "7.867662099241416\n",
      "Probability of coming from C_1 = 1.0\n",
      "Probability of coming from C_2 = 0.0\n",
      "\n",
      "7.994358349953638\n",
      "Probability of coming from C_1 = 1.0\n",
      "Probability of coming from C_2 = 0.0\n",
      "\n",
      "3.4900602232108158\n",
      "Probability of coming from C_1 = 2.19352143221549e-14\n",
      "Probability of coming from C_2 = 0.9999999999999781\n",
      "\n",
      "8.25324512558597\n",
      "Probability of coming from C_1 = 1.0\n",
      "Probability of coming from C_2 = 0.0\n",
      "\n",
      "4.150482313219718\n",
      "Probability of coming from C_1 = 1.1371972847924089e-09\n",
      "Probability of coming from C_2 = 0.9999999988628027\n",
      "\n",
      "7.538138087390978\n",
      "Probability of coming from C_1 = 1.0\n",
      "Probability of coming from C_2 = 0.0\n",
      "\n",
      "8.113271594758002\n",
      "Probability of coming from C_1 = 1.0\n",
      "Probability of coming from C_2 = 0.0\n",
      "\n"
     ]
    }
   ],
   "source": [
    "# essentially just a copy paste of part e\n",
    "prob_c0_x = []\n",
    "prob_c1_x = []\n",
    "\n",
    "for p in data:\n",
    "    pdf_i = [norm.pdf(p, mean[j], var[j]) for j in range(k)]\n",
    "    prob_x = prob_c[0] * pdf_i[0] + prob_c[1] * pdf_i[1]\n",
    "\n",
    "    prob_c0_x.append(pdf_i[0] * prob_c[0] / prob_x)\n",
    "    prob_c1_x.append(pdf_i[1] * prob_c[1] / prob_x)\n",
    "\n",
    "probs = zip(data, prob_c0_x, prob_c1_x)\n",
    "for p in probs:\n",
    "    print(p[0])\n",
    "    print(\"Probability of coming from C_1 = \" + str(p[1]))\n",
    "    print(\"Probability of coming from C_2 = \" + str(p[2]))\n",
    "    print()"
   ]
  },
  {
   "cell_type": "markdown",
   "metadata": {},
   "source": []
  },
  {
   "cell_type": "markdown",
   "metadata": {},
   "source": [
    "h) Use `P(C_j | X_i)` to create a hard assignment - label each point as belonging to a specific cluster (0 or 1)"
   ]
  },
  {
   "cell_type": "code",
   "execution_count": 25,
   "metadata": {},
   "outputs": [
    {
     "name": "stdout",
     "output_type": "stream",
     "text": [
      "[0, 0, 1, 0, 0, 1, 0, 1, 0, 0]\n"
     ]
    }
   ],
   "source": [
    "labels = []\n",
    "\n",
    "for i in range(len(data)):\n",
    "    if prob_c0_x[i] > prob_c1_x[i]:\n",
    "        labels.append(0)\n",
    "    else:\n",
    "        labels.append(1)\n",
    "\n",
    "print(labels)"
   ]
  },
  {
   "cell_type": "markdown",
   "metadata": {},
   "source": [
    "### Clustering Aggregation\n",
    "\n",
    "| Point | C | P |\n",
    "|-------|---|---|\n",
    "| A     | 0 | a |\n",
    "| B     | 0 | b |\n",
    "| C     | 2 | b |\n",
    "| D     | 1 | c |\n",
    "| E     | 1 | d |\n",
    "\n",
    "a) Fill in the following table where for each pair of points determine whether C and P agree or disagree on how to cluster that pair."
   ]
  },
  {
   "cell_type": "markdown",
   "metadata": {},
   "source": [
    "| Pair | Disagreement |\n",
    "|------|--------------|\n",
    "| A  B |      ?       |\n",
    "| A  C |      ?       |\n",
    "| A  D |      ?       |\n",
    "| A  E |      ?       |\n",
    "| B  C |      ?       |\n",
    "| B  D |      ?       |\n",
    "| B  E |      ?       |\n",
    "| C  D |      ?       |\n",
    "| C  E |      ?       |\n",
    "| D  E |      ?       |\n"
   ]
  },
  {
   "cell_type": "markdown",
   "metadata": {},
   "source": [
    "As datasets become very large, this process can become computationally challenging.\n",
    "\n",
    "b) Given N points, what is the formula for the number of unique pairs of points one can create?"
   ]
  },
  {
   "cell_type": "markdown",
   "metadata": {},
   "source": []
  },
  {
   "cell_type": "markdown",
   "metadata": {},
   "source": [
    "Assume that clustering C clusters all points in the same cluster and clustering P clusters points as such:\n",
    "\n",
    "| Point | P |\n",
    "|-------|---|\n",
    "| A     | 0 |\n",
    "| B     | 0 |\n",
    "| C     | 0 |\n",
    "| D     | 1 |\n",
    "| E     | 1 |\n",
    "| F     | 2 |\n",
    "| G     | 2 |\n",
    "| H     | 2 |\n",
    "| I     | 2 |\n",
    "\n",
    "c) What is the maximum number of disagreements there could be for a dataset of this size? (use the formula from b)?"
   ]
  },
  {
   "cell_type": "markdown",
   "metadata": {},
   "source": []
  },
  {
   "cell_type": "markdown",
   "metadata": {},
   "source": [
    "d) If we look at cluster 0. There are (3 x 2) / 2 = 3 pairs that agree with C (since all points in C are in the same cluster). For each cluster, determine how many agreements there are. How many total agreements are there? How many disagreements does that mean there are between C and P?"
   ]
  },
  {
   "cell_type": "markdown",
   "metadata": {},
   "source": []
  },
  {
   "cell_type": "markdown",
   "metadata": {},
   "source": [
    "e) Assuming that filtering the dataset by cluster number is a computationally easy operation, describe an algorithm inspired by the above process that can efficiently compute disagreement distances on large datasets."
   ]
  },
  {
   "cell_type": "markdown",
   "metadata": {},
   "source": []
  }
 ],
 "metadata": {
  "kernelspec": {
   "display_name": "Python 3.9.6 64-bit",
   "language": "python",
   "name": "python3"
  },
  "language_info": {
   "codemirror_mode": {
    "name": "ipython",
    "version": 3
   },
   "file_extension": ".py",
   "mimetype": "text/x-python",
   "name": "python",
   "nbconvert_exporter": "python",
   "pygments_lexer": "ipython3",
   "version": "3.9.6"
  },
  "orig_nbformat": 4,
  "vscode": {
   "interpreter": {
    "hash": "31f2aee4e71d21fbe5cf8b01ff0e069b9275f58929596ceb00d14d90e3e16cd6"
   }
  }
 },
 "nbformat": 4,
 "nbformat_minor": 2
}
