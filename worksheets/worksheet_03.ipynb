{
 "cells": [
  {
   "attachments": {},
   "cell_type": "markdown",
   "metadata": {},
   "source": [
    "# Worksheet 03\n",
    "\n",
    "Name: Pranesh Jayasundar\n",
    "UID: U08334002\n",
    "\n",
    "### Topics\n",
    "\n",
    "- Intro to DS\n",
    "\n",
    "### Linear Algebra Review\n",
    "\n",
    "If you need a linear algebra review, please read through the [following pdf](https://github.com/gallettilance/CS506-Spring2023/raw/main/worksheets/lecture_03_linear_algebra_review.pdf) before next class\n",
    "\n",
    "### Intro to Data Science\n",
    "\n",
    "a) what property must a hypothesis have?"
   ]
  },
  {
   "cell_type": "markdown",
   "metadata": {},
   "source": [
    "- A hypothesis shouldn't be based only on the positive examples, rather it should contain both positive as well as negative examples.\n",
    "- Both positive and negative examples can falsify a hypothesis."
   ]
  },
  {
   "cell_type": "markdown",
   "metadata": {},
   "source": [
    "b) what examples would you have wanted to try?"
   ]
  },
  {
   "cell_type": "markdown",
   "metadata": {},
   "source": [
    "I would have wanted to try couple of more examples:\n",
    "- (2, 4, 5): Because (2, 4, 3) is NO, I would want to make sure that if the hypothesis would be in increasing order\n",
    "- (-1, 0, 1): Since all the examples are positive, I want to make sure if we can try negative integers\n",
    "- (1, 2, 3): To make sure if it's just increasing from left to right\n",
    "- (10, 20, 21): To make sure there isn't any fixed mutliple as such like (6, 8, 10) and (1, 3, 5)"
   ]
  },
  {
   "cell_type": "markdown",
   "metadata": {},
   "source": [
    "c) Poll 1"
   ]
  },
  {
   "cell_type": "markdown",
   "metadata": {},
   "source": [
    "Before understanding the concept of confirmation bias, I would have chosen any one of the three options - (A), (B), (C), since all are in increasing order."
   ]
  },
  {
   "cell_type": "markdown",
   "metadata": {},
   "source": [
    "d) Given the hypothesis (x, 2x, 3x), for each of the following, determine whether they are positive or negative examples:\n",
    "\n",
    "- (2, 4, 6)\n",
    "- (6, 8 , 10)\n",
    "- (1, 3, 5)"
   ]
  },
  {
   "cell_type": "markdown",
   "metadata": {},
   "source": [
    "- (2, 4, 6) -> Postive example\n",
    "- (6, 8, 10) -> Negative example\n",
    "- (1, 3, 5) -> Negative example"
   ]
  },
  {
   "cell_type": "markdown",
   "metadata": {},
   "source": [
    "e) Poll 2"
   ]
  },
  {
   "cell_type": "markdown",
   "metadata": {},
   "source": [
    "- (1, 2, 3), since option (A) and (B) both are of similar pattern - x, x+2, x+4 and the option (C) is a negative example."
   ]
  },
  {
   "attachments": {},
   "cell_type": "markdown",
   "metadata": {},
   "source": [
    "f) Describe steps of a Data Science Workflow"
   ]
  },
  {
   "cell_type": "markdown",
   "metadata": {},
   "source": [
    "- Process Data: Handle missing data, inconsistent data, which data should be used, which data shouldn't be used and so on.\n",
    "- Explore Data: Any imbalances in data?, Describe, Contextualize, Visualize the data.\n",
    "- Extract Features: What features can be extracted?, should features be transformed?\n",
    "- Create Model: Finding the right model"
   ]
  },
  {
   "attachments": {},
   "cell_type": "markdown",
   "metadata": {},
   "source": [
    "g) Give a real world example for each of the following data types:\n",
    "\n",
    "- record\n",
    "- graph\n",
    "- image\n",
    "- text"
   ]
  },
  {
   "cell_type": "markdown",
   "metadata": {},
   "source": [
    "(1) Record: \n",
    "- A real world example would be patient medical records.\n",
    "-  Each record represents information about a patient's health history, including personal information, symptoms, diagnoses, treatments, and test result - these are the features of patients data.\n",
    "\n",
    "(2) Graph:\n",
    "- A real-world example of graph type of data is stock market data.\n",
    "- The data can be represented as a graph showing the changes in the price of a particular stock over time.\n",
    "\n",
    "(3) Image\n",
    "-  real-world example of image type of data is satellite imagery.\n",
    "- This type of data is used in various applications, such as mapping, urban planning, and environmental monitoring.\n",
    "\n",
    "(4) Text:\n",
    "- A real-world example of text type of data is social media posts.\n",
    "- This type of data includes written or typed comments, articles, and reviews made by users on social media platforms such as Facebook, Twitter, and Instagram."
   ]
  },
  {
   "attachments": {},
   "cell_type": "markdown",
   "metadata": {},
   "source": [
    "h) Give a real world example of unsupervised learning"
   ]
  },
  {
   "cell_type": "markdown",
   "metadata": {},
   "source": [
    "- A real-world example of unsupervised learning is the use of k-means clustering to segment customers for a retail company. \n",
    "- The algorithm is applied to a dataset of customer characteristics such as age, income, and spending behavior without any labeled information about the customers. \n",
    "- The algorithm then groups the customers into clusters based on similarities in their characteristics."
   ]
  },
  {
   "attachments": {},
   "cell_type": "markdown",
   "metadata": {},
   "source": [
    "i) Give a real world example of supervised learning"
   ]
  },
  {
   "cell_type": "markdown",
   "metadata": {},
   "source": [
    "- A real-world example of supervised learning is the use of a linear regression algorithm to predict housing prices. \n",
    "- The model can be trained on labeled dataset of historical housing prices and their associated features such as location, size of the house, number of bedroom, number of bathroom, and year built. \n",
    "- The algorithm then uses this information to learn the relationship between the features and housing prices and make predictions about the price of a new, unlabeled house based on its features"
   ]
  }
 ],
 "metadata": {
  "kernelspec": {
   "display_name": "Python 3.9.6 64-bit",
   "language": "python",
   "name": "python3"
  },
  "language_info": {
   "codemirror_mode": {
    "name": "ipython",
    "version": 3
   },
   "file_extension": ".py",
   "mimetype": "text/x-python",
   "name": "python",
   "nbconvert_exporter": "python",
   "pygments_lexer": "ipython3",
   "version": "3.9.6"
  },
  "orig_nbformat": 4,
  "vscode": {
   "interpreter": {
    "hash": "31f2aee4e71d21fbe5cf8b01ff0e069b9275f58929596ceb00d14d90e3e16cd6"
   }
  }
 },
 "nbformat": 4,
 "nbformat_minor": 2
}
