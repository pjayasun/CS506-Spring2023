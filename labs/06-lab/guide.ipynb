{
 "cells": [
  {
   "attachments": {},
   "cell_type": "markdown",
   "metadata": {},
   "source": [
    "## CS 506 Lab 06: Kaggle Competition with a Guide\n",
    "\n",
    "In this lab, you will be learning how to make a valid Kaggle submission for the competition [CS506 Lab: Defective Cookie Detection](https://www.kaggle.com/competitions/cs506-lab-defective-cookie-detection/)\n",
    "\n",
    "We will be using a Decision Tree Classifier to make our predictions. We will be using the [scikit-learn](https://scikit-learn.org/stable/) library to implement our classifier."
   ]
  },
  {
   "attachments": {},
   "cell_type": "markdown",
   "metadata": {},
   "source": [
    "## Getting Started\n",
    "\n",
    "We will first retrieve the train and test data."
   ]
  },
  {
   "cell_type": "code",
   "execution_count": 1,
   "metadata": {},
   "outputs": [
    {
     "data": {
      "text/html": [
       "<div>\n",
       "<style scoped>\n",
       "    .dataframe tbody tr th:only-of-type {\n",
       "        vertical-align: middle;\n",
       "    }\n",
       "\n",
       "    .dataframe tbody tr th {\n",
       "        vertical-align: top;\n",
       "    }\n",
       "\n",
       "    .dataframe thead th {\n",
       "        text-align: right;\n",
       "    }\n",
       "</style>\n",
       "<table border=\"1\" class=\"dataframe\">\n",
       "  <thead>\n",
       "    <tr style=\"text-align: right;\">\n",
       "      <th></th>\n",
       "      <th>Id</th>\n",
       "      <th>Texture Hardness</th>\n",
       "      <th>Texture Chewiness</th>\n",
       "      <th>Texture Crispiness</th>\n",
       "      <th>Color L*</th>\n",
       "      <th>Color a*</th>\n",
       "      <th>Color b*</th>\n",
       "      <th>Taste Sweetness</th>\n",
       "      <th>Taste Saltiness</th>\n",
       "      <th>Taste Bitterness</th>\n",
       "      <th>Shape Diameter</th>\n",
       "      <th>Shape Thickness</th>\n",
       "      <th>Smell Intensity</th>\n",
       "      <th>Smell Complexity</th>\n",
       "      <th>Smell Specific Compound</th>\n",
       "      <th>Detected Chemical</th>\n",
       "      <th>Defective</th>\n",
       "    </tr>\n",
       "  </thead>\n",
       "  <tbody>\n",
       "    <tr>\n",
       "      <th>0</th>\n",
       "      <td>59</td>\n",
       "      <td>120</td>\n",
       "      <td>0.05</td>\n",
       "      <td>1.2</td>\n",
       "      <td>80</td>\n",
       "      <td>20</td>\n",
       "      <td>40</td>\n",
       "      <td>2.0</td>\n",
       "      <td>0.5</td>\n",
       "      <td>0.10</td>\n",
       "      <td>6.0</td>\n",
       "      <td>0.5</td>\n",
       "      <td>1.0</td>\n",
       "      <td>10</td>\n",
       "      <td>5</td>\n",
       "      <td>Ethyl butyrate</td>\n",
       "      <td>0</td>\n",
       "    </tr>\n",
       "    <tr>\n",
       "      <th>1</th>\n",
       "      <td>60</td>\n",
       "      <td>150</td>\n",
       "      <td>0.08</td>\n",
       "      <td>1.4</td>\n",
       "      <td>85</td>\n",
       "      <td>23</td>\n",
       "      <td>43</td>\n",
       "      <td>3.0</td>\n",
       "      <td>0.6</td>\n",
       "      <td>0.20</td>\n",
       "      <td>5.5</td>\n",
       "      <td>0.6</td>\n",
       "      <td>0.9</td>\n",
       "      <td>12</td>\n",
       "      <td>6</td>\n",
       "      <td>Limonene</td>\n",
       "      <td>1</td>\n",
       "    </tr>\n",
       "    <tr>\n",
       "      <th>2</th>\n",
       "      <td>61</td>\n",
       "      <td>135</td>\n",
       "      <td>0.06</td>\n",
       "      <td>1.3</td>\n",
       "      <td>82</td>\n",
       "      <td>22</td>\n",
       "      <td>42</td>\n",
       "      <td>2.5</td>\n",
       "      <td>0.3</td>\n",
       "      <td>0.30</td>\n",
       "      <td>6.2</td>\n",
       "      <td>0.4</td>\n",
       "      <td>0.8</td>\n",
       "      <td>8</td>\n",
       "      <td>4</td>\n",
       "      <td>?-Pinene</td>\n",
       "      <td>0</td>\n",
       "    </tr>\n",
       "    <tr>\n",
       "      <th>3</th>\n",
       "      <td>62</td>\n",
       "      <td>100</td>\n",
       "      <td>0.02</td>\n",
       "      <td>1.0</td>\n",
       "      <td>75</td>\n",
       "      <td>18</td>\n",
       "      <td>38</td>\n",
       "      <td>1.5</td>\n",
       "      <td>0.2</td>\n",
       "      <td>0.05</td>\n",
       "      <td>7.0</td>\n",
       "      <td>0.7</td>\n",
       "      <td>0.7</td>\n",
       "      <td>7</td>\n",
       "      <td>3</td>\n",
       "      <td>Linalool</td>\n",
       "      <td>1</td>\n",
       "    </tr>\n",
       "    <tr>\n",
       "      <th>4</th>\n",
       "      <td>63</td>\n",
       "      <td>145</td>\n",
       "      <td>0.07</td>\n",
       "      <td>1.5</td>\n",
       "      <td>87</td>\n",
       "      <td>25</td>\n",
       "      <td>45</td>\n",
       "      <td>3.5</td>\n",
       "      <td>0.8</td>\n",
       "      <td>0.15</td>\n",
       "      <td>5.8</td>\n",
       "      <td>0.5</td>\n",
       "      <td>0.9</td>\n",
       "      <td>13</td>\n",
       "      <td>7</td>\n",
       "      <td>?-Caryophyllene</td>\n",
       "      <td>1</td>\n",
       "    </tr>\n",
       "  </tbody>\n",
       "</table>\n",
       "</div>"
      ],
      "text/plain": [
       "   Id  Texture Hardness  Texture Chewiness  Texture Crispiness  Color L*  \\\n",
       "0  59               120               0.05                 1.2        80   \n",
       "1  60               150               0.08                 1.4        85   \n",
       "2  61               135               0.06                 1.3        82   \n",
       "3  62               100               0.02                 1.0        75   \n",
       "4  63               145               0.07                 1.5        87   \n",
       "\n",
       "   Color a*  Color b*  Taste Sweetness  Taste Saltiness  Taste Bitterness  \\\n",
       "0        20        40              2.0              0.5              0.10   \n",
       "1        23        43              3.0              0.6              0.20   \n",
       "2        22        42              2.5              0.3              0.30   \n",
       "3        18        38              1.5              0.2              0.05   \n",
       "4        25        45              3.5              0.8              0.15   \n",
       "\n",
       "   Shape Diameter  Shape Thickness  Smell Intensity  Smell Complexity  \\\n",
       "0             6.0              0.5              1.0                10   \n",
       "1             5.5              0.6              0.9                12   \n",
       "2             6.2              0.4              0.8                 8   \n",
       "3             7.0              0.7              0.7                 7   \n",
       "4             5.8              0.5              0.9                13   \n",
       "\n",
       "   Smell Specific Compound Detected Chemical  Defective  \n",
       "0                        5    Ethyl butyrate          0  \n",
       "1                        6          Limonene          1  \n",
       "2                        4          ?-Pinene          0  \n",
       "3                        3          Linalool          1  \n",
       "4                        7   ?-Caryophyllene          1  "
      ]
     },
     "execution_count": 1,
     "metadata": {},
     "output_type": "execute_result"
    }
   ],
   "source": [
    "#getting train and test data\n",
    "import pandas as pd\n",
    "\n",
    "train_data = pd.read_csv('cookie_train.csv')\n",
    "test_data = pd.read_csv('cookie_test.csv')\n",
    "\n",
    "#let's see what we have\n",
    "train_data.head()"
   ]
  },
  {
   "attachments": {},
   "cell_type": "markdown",
   "metadata": {},
   "source": [
    "So for Kaggle  competitions **for classification**, the submission file should be a csv file with the following format:\n",
    "\n",
    "| Id | Category |\n",
    "|----|----------|\n",
    "| 1  | ?        |\n",
    "| 2  | ?        |\n",
    "| ...  | ...        |\n",
    "| N  | ?        |\n",
    "\n",
    "\n",
    "Where `Id` is the index of the cookie and `Category` is the predicted category of the cookie.\n",
    " **The kaggle competition page will tell you what the desired format will be for other competitions like the Midterm, but the one I described here is for this competition.**\n",
    "\n",
    "This is what we desire to make to submit to Kaggle."
   ]
  },
  {
   "attachments": {},
   "cell_type": "markdown",
   "metadata": {},
   "source": [
    "## Abstracting Features\n",
    "\n",
    "We can look around and see what features (e.g. `Texture Hardness`) we would want to use in our model to be investigated. To be simple, let us just use the `Texture Hardness` and `Smell Intensity` features. You would want to use more features in your model, but for simplicity, we will just use these two features. Also notice the `string` data type `Detected Chemical`! To use this, we would have to quantify it somehow (This is up to you!)"
   ]
  },
  {
   "cell_type": "code",
   "execution_count": 91,
   "metadata": {},
   "outputs": [
    {
     "data": {
      "text/html": [
       "<div>\n",
       "<style scoped>\n",
       "    .dataframe tbody tr th:only-of-type {\n",
       "        vertical-align: middle;\n",
       "    }\n",
       "\n",
       "    .dataframe tbody tr th {\n",
       "        vertical-align: top;\n",
       "    }\n",
       "\n",
       "    .dataframe thead th {\n",
       "        text-align: right;\n",
       "    }\n",
       "</style>\n",
       "<table border=\"1\" class=\"dataframe\">\n",
       "  <thead>\n",
       "    <tr style=\"text-align: right;\">\n",
       "      <th></th>\n",
       "      <th>Id</th>\n",
       "      <th>Texture Hardness</th>\n",
       "      <th>Taste Saltiness</th>\n",
       "      <th>Defective</th>\n",
       "    </tr>\n",
       "  </thead>\n",
       "  <tbody>\n",
       "    <tr>\n",
       "      <th>0</th>\n",
       "      <td>59</td>\n",
       "      <td>120</td>\n",
       "      <td>0.5</td>\n",
       "      <td>0</td>\n",
       "    </tr>\n",
       "    <tr>\n",
       "      <th>1</th>\n",
       "      <td>60</td>\n",
       "      <td>150</td>\n",
       "      <td>0.6</td>\n",
       "      <td>1</td>\n",
       "    </tr>\n",
       "    <tr>\n",
       "      <th>2</th>\n",
       "      <td>61</td>\n",
       "      <td>135</td>\n",
       "      <td>0.3</td>\n",
       "      <td>0</td>\n",
       "    </tr>\n",
       "    <tr>\n",
       "      <th>3</th>\n",
       "      <td>62</td>\n",
       "      <td>100</td>\n",
       "      <td>0.2</td>\n",
       "      <td>1</td>\n",
       "    </tr>\n",
       "    <tr>\n",
       "      <th>4</th>\n",
       "      <td>63</td>\n",
       "      <td>145</td>\n",
       "      <td>0.8</td>\n",
       "      <td>1</td>\n",
       "    </tr>\n",
       "  </tbody>\n",
       "</table>\n",
       "</div>"
      ],
      "text/plain": [
       "   Id  Texture Hardness  Taste Saltiness  Defective\n",
       "0  59               120              0.5          0\n",
       "1  60               150              0.6          1\n",
       "2  61               135              0.3          0\n",
       "3  62               100              0.2          1\n",
       "4  63               145              0.8          1"
      ]
     },
     "execution_count": 91,
     "metadata": {},
     "output_type": "execute_result"
    }
   ],
   "source": [
    "#Creating a new dataframe for variables we want to pass into a Decision Tree\n",
    "#NOTE: keeping Id and Category (aka Defective) column since Kaggle has it in the submission format\n",
    "features_interested_plot = ['Texture Hardness', 'Taste Saltiness']\n",
    "columns_to_be_omitted = ['Id','Defective', 'Detected Chemical', 'Shape Diameter', 'Color L*', 'Color a*', 'Color b*', 'Shape Thickness', 'Smell Specific Compound', 'Smell Complexity', 'Smell Intensity', 'Taste Sweetness', 'Texture Chewiness', 'Texture Crispiness', 'Taste Bitterness']\n",
    "features_interested = list(train_data.drop(columns = columns_to_be_omitted, axis = 1))\n",
    "\n",
    "features_interested_df = train_data[['Id'] + features_interested + ['Defective']]\n",
    "\n",
    "features_interested_df.head()"
   ]
  },
  {
   "attachments": {},
   "cell_type": "markdown",
   "metadata": {},
   "source": [
    "We may also want to graph things to see how a feature behaves. This can be useful to see pattern and trends in the data, which could yield intuitions on whether something is defective or not."
   ]
  },
  {
   "cell_type": "code",
   "execution_count": 92,
   "metadata": {},
   "outputs": [
    {
     "data": {
      "image/png": "[encoded data removed]",
      "text/plain": [
       "<Figure size 640x480 with 2 Axes>"
      ]
     },
     "metadata": {},
     "output_type": "display_data"
    }
   ],
   "source": [
    "#Plotting distribution of the features we just created\n",
    "\n",
    "import matplotlib.pyplot as plt\n",
    "\n",
    "for i, feature in enumerate(features_interested_plot):\n",
    "    plt.subplot(2, len(features_interested_plot), i+1)\n",
    "    plt.hist(features_interested_df[feature], bins=20)\n",
    "    plt.title(feature)\n"
   ]
  },
  {
   "attachments": {},
   "cell_type": "markdown",
   "metadata": {},
   "source": [
    "## Training the Model\n",
    "\n",
    "We will now use the Decision Tree to fit our desired features"
   ]
  },
  {
   "cell_type": "code",
   "execution_count": 93,
   "metadata": {},
   "outputs": [],
   "source": [
    "from sklearn.tree import DecisionTreeClassifier\n",
    "\n",
    "#creating a classifier model\n",
    "clf = DecisionTreeClassifier()\n",
    "\n",
    "#training the classifier\n",
    "clf = clf.fit(features_interested_df[features_interested], features_interested_df['Defective'])\n",
    "\n",
    "#predicting the test data ONLY ON THE FEATURES FITTED ON!\n",
    "test_data['Defective'] = clf.predict(test_data[features_interested])\n",
    "\n",
    "#creating a submission file but changing Id and Defective Column names to match Kaggle's submission format\n",
    "submission_df = test_data[['Id', 'Defective']]\n",
    "\n",
    "#adjusting the column names to satisfy Kaggle submission format\n",
    "submission_df.columns = ['Id', 'Category']\n",
    "\n",
    "#saving the submission file\n",
    "submission_df.to_csv('submission.csv', index=False)"
   ]
  },
  {
   "cell_type": "code",
   "execution_count": 105,
   "metadata": {},
   "outputs": [
    {
     "name": "stdout",
     "output_type": "stream",
     "text": [
      "Best hyperparameters:  {'max_depth': 20, 'min_samples_leaf': 6, 'min_samples_split': 5}\n",
      "Accuracy:  0.7\n"
     ]
    }
   ],
   "source": [
    "from sklearn.tree import DecisionTreeClassifier\n",
    "from sklearn.model_selection import GridSearchCV\n",
    "\n",
    "# create a Decision Tree classifier\n",
    "clf = DecisionTreeClassifier()\n",
    "\n",
    "# define the hyperparameters to tune\n",
    "params = {\n",
    "    'max_depth': [5, 10, 15, 20, 30, None],\n",
    "    'min_samples_split': [2, 5, 10, 12, 15],\n",
    "    'min_samples_leaf': [1, 2, 4, 5, 6],\n",
    "}\n",
    "\n",
    "# perform a grid search over the hyperparameters\n",
    "grid_search = GridSearchCV(estimator=clf, param_grid=params, cv=10)\n",
    "grid_search.fit(features_interested_df[features_interested], features_interested_df['Defective'])\n",
    "\n",
    "# print the best hyperparameters and their corresponding accuracy score\n",
    "print('Best hyperparameters: ', grid_search.best_params_)\n",
    "print('Accuracy: ', grid_search.best_score_)\n",
    "\n",
    "#predicting the test data ONLY ON THE FEATURES FITTED ON!\n",
    "test_data['Defective'] = grid_search.predict(test_data[features_interested])\n",
    "\n",
    "#creating a submission file but changing Id and Defective Column names to match Kaggle's submission format\n",
    "submission_df = test_data[['Id', 'Defective']]\n",
    "\n",
    "#adjusting the column names to satisfy Kaggle submission format\n",
    "submission_df.columns = ['Id', 'Category']\n",
    "\n",
    "#saving the submission file\n",
    "submission_df.to_csv('submission.csv', index=False)\n"
   ]
  },
  {
   "attachments": {},
   "cell_type": "markdown",
   "metadata": {},
   "source": [
    "## Testing our Model\n",
    "\n",
    "We would now have to predict the `Defective` value for each cookie. What we can do here is predict it on the training set. This will give us a sense of how accurate our model is, since we are actually given whether a cookie is `Defective` or not in the training set. You would have this too in the testing set, except for the fact this is a competition so you won't know what they are :). Instead, your accuracy will show on the leaderboard when you submit it. \n",
    "\n",
    "Once again, be sure to check it with the training set first before you submit, since submissions per day are limited."
   ]
  },
  {
   "attachments": {},
   "cell_type": "markdown",
   "metadata": {},
   "source": [
    "Let us now view what the submission file or our predictions looks like."
   ]
  },
  {
   "cell_type": "code",
   "execution_count": 106,
   "metadata": {},
   "outputs": [
    {
     "data": {
      "text/html": [
       "<div>\n",
       "<style scoped>\n",
       "    .dataframe tbody tr th:only-of-type {\n",
       "        vertical-align: middle;\n",
       "    }\n",
       "\n",
       "    .dataframe tbody tr th {\n",
       "        vertical-align: top;\n",
       "    }\n",
       "\n",
       "    .dataframe thead th {\n",
       "        text-align: right;\n",
       "    }\n",
       "</style>\n",
       "<table border=\"1\" class=\"dataframe\">\n",
       "  <thead>\n",
       "    <tr style=\"text-align: right;\">\n",
       "      <th></th>\n",
       "      <th>Id</th>\n",
       "      <th>Category</th>\n",
       "    </tr>\n",
       "  </thead>\n",
       "  <tbody>\n",
       "    <tr>\n",
       "      <th>0</th>\n",
       "      <td>22</td>\n",
       "      <td>1</td>\n",
       "    </tr>\n",
       "    <tr>\n",
       "      <th>1</th>\n",
       "      <td>23</td>\n",
       "      <td>0</td>\n",
       "    </tr>\n",
       "    <tr>\n",
       "      <th>2</th>\n",
       "      <td>24</td>\n",
       "      <td>1</td>\n",
       "    </tr>\n",
       "    <tr>\n",
       "      <th>3</th>\n",
       "      <td>25</td>\n",
       "      <td>1</td>\n",
       "    </tr>\n",
       "    <tr>\n",
       "      <th>4</th>\n",
       "      <td>26</td>\n",
       "      <td>1</td>\n",
       "    </tr>\n",
       "    <tr>\n",
       "      <th>5</th>\n",
       "      <td>27</td>\n",
       "      <td>0</td>\n",
       "    </tr>\n",
       "    <tr>\n",
       "      <th>6</th>\n",
       "      <td>28</td>\n",
       "      <td>1</td>\n",
       "    </tr>\n",
       "    <tr>\n",
       "      <th>7</th>\n",
       "      <td>29</td>\n",
       "      <td>1</td>\n",
       "    </tr>\n",
       "    <tr>\n",
       "      <th>8</th>\n",
       "      <td>30</td>\n",
       "      <td>1</td>\n",
       "    </tr>\n",
       "    <tr>\n",
       "      <th>9</th>\n",
       "      <td>31</td>\n",
       "      <td>1</td>\n",
       "    </tr>\n",
       "  </tbody>\n",
       "</table>\n",
       "</div>"
      ],
      "text/plain": [
       "   Id  Category\n",
       "0  22         1\n",
       "1  23         0\n",
       "2  24         1\n",
       "3  25         1\n",
       "4  26         1\n",
       "5  27         0\n",
       "6  28         1\n",
       "7  29         1\n",
       "8  30         1\n",
       "9  31         1"
      ]
     },
     "execution_count": 106,
     "metadata": {},
     "output_type": "execute_result"
    }
   ],
   "source": [
    "submission_df.head(10)"
   ]
  },
  {
   "attachments": {},
   "cell_type": "markdown",
   "metadata": {},
   "source": [
    "And now, let us see what the accuracy is using the same accuracy metric on the Kaggle competition made for this lab: Classification Accuracy"
   ]
  },
  {
   "cell_type": "code",
   "execution_count": 107,
   "metadata": {},
   "outputs": [
    {
     "name": "stdout",
     "output_type": "stream",
     "text": [
      "Accuracy of the model is: 76.66666666666667%\n"
     ]
    }
   ],
   "source": [
    "#And now, let us see what the accuracy is using the same accuracy metric on the Kaggle competition made for this lab: Classification Accuracy\n",
    "\n",
    "predicted_train_data = grid_search.predict(features_interested_df[features_interested])\n",
    "\n",
    "#Now we can calculate the accuracy of the model\n",
    "from sklearn.metrics import accuracy_score\n",
    "\n",
    "print(\"Accuracy of the model is: \" + str(100*accuracy_score(train_data['Defective'], predicted_train_data)) + \"%\")"
   ]
  },
  {
   "attachments": {},
   "cell_type": "markdown",
   "metadata": {},
   "source": [
    "There are other ways to look at accuracy including a confusion matrix:"
   ]
  },
  {
   "cell_type": "code",
   "execution_count": 108,
   "metadata": {},
   "outputs": [
    {
     "data": {
      "text/plain": [
       "<AxesSubplot: >"
      ]
     },
     "execution_count": 108,
     "metadata": {},
     "output_type": "execute_result"
    },
    {
     "data": {
      "image/png": "[encoded data removed]",
      "text/plain": [
       "<Figure size 640x480 with 2 Axes>"
      ]
     },
     "metadata": {},
     "output_type": "display_data"
    }
   ],
   "source": [
    "#Creating a confusion matrix where the number is shaded darker the more it is predicted\n",
    "from sklearn.metrics import confusion_matrix\n",
    "\n",
    "confusion_matrix(train_data['Defective'], predicted_train_data)\n",
    "\n",
    "#plotting it with color\n",
    "import seaborn as sns\n",
    "\n",
    "sns.heatmap(confusion_matrix(train_data['Defective'], predicted_train_data), annot=True, cmap=\"YlGnBu\")"
   ]
  },
  {
   "attachments": {},
   "cell_type": "markdown",
   "metadata": {},
   "source": [
    "This seems pretty good! Good enough to submit to Kaggle? Let's see!"
   ]
  },
  {
   "attachments": {},
   "cell_type": "markdown",
   "metadata": {},
   "source": [
    "## Take the CSV and Submit to Kaggle!\n",
    "\n",
    "Just as said, locate the `submission.csv` file that would be in the same file path as this notebook and submit it to Kaggle!"
   ]
  },
  {
   "cell_type": "markdown",
   "metadata": {},
   "source": []
  }
 ],
 "metadata": {
  "kernelspec": {
   "display_name": "Python 3.9.6 64-bit",
   "language": "python",
   "name": "python3"
  },
  "language_info": {
   "codemirror_mode": {
    "name": "ipython",
    "version": 3
   },
   "file_extension": ".py",
   "mimetype": "text/x-python",
   "name": "python",
   "nbconvert_exporter": "python",
   "pygments_lexer": "ipython3",
   "version": "3.9.6"
  },
  "orig_nbformat": 4,
  "vscode": {
   "interpreter": {
    "hash": "31f2aee4e71d21fbe5cf8b01ff0e069b9275f58929596ceb00d14d90e3e16cd6"
   }
  }
 },
 "nbformat": 4,
 "nbformat_minor": 2
}
